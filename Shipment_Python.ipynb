{
 "cells": [
  {
   "cell_type": "code",
   "execution_count": 9,
   "metadata": {},
   "outputs": [],
   "source": [
    "import pandas as pd\n",
    "import numpy as np\n",
    "import matplotlib.pyplot as plt\n",
    "from decimal import Decimal\n",
    "from pandas import util"
   ]
  },
  {
   "cell_type": "code",
   "execution_count": 10,
   "metadata": {},
   "outputs": [
    {
     "data": {
      "text/html": [
       "<div>\n",
       "<style scoped>\n",
       "    .dataframe tbody tr th:only-of-type {\n",
       "        vertical-align: middle;\n",
       "    }\n",
       "\n",
       "    .dataframe tbody tr th {\n",
       "        vertical-align: top;\n",
       "    }\n",
       "\n",
       "    .dataframe thead th {\n",
       "        text-align: right;\n",
       "    }\n",
       "</style>\n",
       "<table border=\"1\" class=\"dataframe\">\n",
       "  <thead>\n",
       "    <tr style=\"text-align: right;\">\n",
       "      <th></th>\n",
       "      <th>Order ID</th>\n",
       "      <th>Order Date</th>\n",
       "      <th>Ship Date</th>\n",
       "      <th>Aging</th>\n",
       "      <th>Ship Mode</th>\n",
       "      <th>Product Category</th>\n",
       "      <th>Product</th>\n",
       "      <th>Sales</th>\n",
       "      <th>Quantity</th>\n",
       "      <th>Discount</th>\n",
       "      <th>...</th>\n",
       "      <th>Shipping Cost</th>\n",
       "      <th>Order Priority</th>\n",
       "      <th>Customer ID</th>\n",
       "      <th>Customer Name</th>\n",
       "      <th>Segment</th>\n",
       "      <th>City</th>\n",
       "      <th>State</th>\n",
       "      <th>Country</th>\n",
       "      <th>Region</th>\n",
       "      <th>Months</th>\n",
       "    </tr>\n",
       "  </thead>\n",
       "  <tbody>\n",
       "    <tr>\n",
       "      <th>0</th>\n",
       "      <td>AU-2015-1</td>\n",
       "      <td>2015-11-09</td>\n",
       "      <td>2015-11-17</td>\n",
       "      <td>8</td>\n",
       "      <td>First Class</td>\n",
       "      <td>Auto &amp; Accessories</td>\n",
       "      <td>Car Media Players</td>\n",
       "      <td>140</td>\n",
       "      <td>2</td>\n",
       "      <td>0.05</td>\n",
       "      <td>...</td>\n",
       "      <td>4.600000</td>\n",
       "      <td>Medium</td>\n",
       "      <td>LS-001</td>\n",
       "      <td>Lane Daniels</td>\n",
       "      <td>Consumer</td>\n",
       "      <td>Brisbane</td>\n",
       "      <td>Queensland</td>\n",
       "      <td>Australia</td>\n",
       "      <td>Oceania</td>\n",
       "      <td>Nov</td>\n",
       "    </tr>\n",
       "    <tr>\n",
       "      <th>1</th>\n",
       "      <td>AU-2015-2</td>\n",
       "      <td>2015-06-30</td>\n",
       "      <td>2015-07-02</td>\n",
       "      <td>2</td>\n",
       "      <td>First Class</td>\n",
       "      <td>Auto &amp; Accessories</td>\n",
       "      <td>Car Speakers</td>\n",
       "      <td>211</td>\n",
       "      <td>3</td>\n",
       "      <td>0.03</td>\n",
       "      <td>...</td>\n",
       "      <td>11.201000</td>\n",
       "      <td>Medium</td>\n",
       "      <td>IZ-002</td>\n",
       "      <td>Alvarado Kriz</td>\n",
       "      <td>Home Office</td>\n",
       "      <td>Berlin</td>\n",
       "      <td>Berlin</td>\n",
       "      <td>Germany</td>\n",
       "      <td>Central</td>\n",
       "      <td>Jun</td>\n",
       "    </tr>\n",
       "    <tr>\n",
       "      <th>2</th>\n",
       "      <td>AU-2015-3</td>\n",
       "      <td>2015-12-05</td>\n",
       "      <td>2015-12-13</td>\n",
       "      <td>8</td>\n",
       "      <td>First Class</td>\n",
       "      <td>Auto &amp; Accessories</td>\n",
       "      <td>Car Body Covers</td>\n",
       "      <td>117</td>\n",
       "      <td>5</td>\n",
       "      <td>0.01</td>\n",
       "      <td>...</td>\n",
       "      <td>3.115000</td>\n",
       "      <td>Critical</td>\n",
       "      <td>EN-003</td>\n",
       "      <td>Moon Weien</td>\n",
       "      <td>Consumer</td>\n",
       "      <td>Porirua</td>\n",
       "      <td>Wellington</td>\n",
       "      <td>New Zealand</td>\n",
       "      <td>Oceania</td>\n",
       "      <td>Dec</td>\n",
       "    </tr>\n",
       "    <tr>\n",
       "      <th>3</th>\n",
       "      <td>AU-2015-4</td>\n",
       "      <td>2015-05-09</td>\n",
       "      <td>2015-05-16</td>\n",
       "      <td>7</td>\n",
       "      <td>First Class</td>\n",
       "      <td>Auto &amp; Accessories</td>\n",
       "      <td>Car &amp; Bike Care</td>\n",
       "      <td>118</td>\n",
       "      <td>2</td>\n",
       "      <td>0.05</td>\n",
       "      <td>...</td>\n",
       "      <td>2.620000</td>\n",
       "      <td>High</td>\n",
       "      <td>AN-004</td>\n",
       "      <td>Sanchez Bergman</td>\n",
       "      <td>Corporate</td>\n",
       "      <td>Kabul</td>\n",
       "      <td>Kabul</td>\n",
       "      <td>Afghanistan</td>\n",
       "      <td>Central Asia</td>\n",
       "      <td>May</td>\n",
       "    </tr>\n",
       "    <tr>\n",
       "      <th>4</th>\n",
       "      <td>AU-2015-5</td>\n",
       "      <td>2015-07-09</td>\n",
       "      <td>2015-07-18</td>\n",
       "      <td>9</td>\n",
       "      <td>First Class</td>\n",
       "      <td>Auto &amp; Accessories</td>\n",
       "      <td>Tyre</td>\n",
       "      <td>250</td>\n",
       "      <td>1</td>\n",
       "      <td>0.04</td>\n",
       "      <td>...</td>\n",
       "      <td>16.000000</td>\n",
       "      <td>Critical</td>\n",
       "      <td>ON-005</td>\n",
       "      <td>Rowe Jackson</td>\n",
       "      <td>Corporate</td>\n",
       "      <td>Townsville</td>\n",
       "      <td>Queensland</td>\n",
       "      <td>Australia</td>\n",
       "      <td>Oceania</td>\n",
       "      <td>Jul</td>\n",
       "    </tr>\n",
       "    <tr>\n",
       "      <th>...</th>\n",
       "      <td>...</td>\n",
       "      <td>...</td>\n",
       "      <td>...</td>\n",
       "      <td>...</td>\n",
       "      <td>...</td>\n",
       "      <td>...</td>\n",
       "      <td>...</td>\n",
       "      <td>...</td>\n",
       "      <td>...</td>\n",
       "      <td>...</td>\n",
       "      <td>...</td>\n",
       "      <td>...</td>\n",
       "      <td>...</td>\n",
       "      <td>...</td>\n",
       "      <td>...</td>\n",
       "      <td>...</td>\n",
       "      <td>...</td>\n",
       "      <td>...</td>\n",
       "      <td>...</td>\n",
       "      <td>...</td>\n",
       "      <td>...</td>\n",
       "    </tr>\n",
       "    <tr>\n",
       "      <th>51285</th>\n",
       "      <td>FA-2015-30771</td>\n",
       "      <td>2015-01-21</td>\n",
       "      <td>2015-01-27</td>\n",
       "      <td>6</td>\n",
       "      <td>Standard Class</td>\n",
       "      <td>Fashion</td>\n",
       "      <td>Sports Wear</td>\n",
       "      <td>85</td>\n",
       "      <td>5</td>\n",
       "      <td>0.04</td>\n",
       "      <td>...</td>\n",
       "      <td>1.700000</td>\n",
       "      <td>Medium</td>\n",
       "      <td>IN-0040977</td>\n",
       "      <td>Welch Fein</td>\n",
       "      <td>Corporate</td>\n",
       "      <td>Pasadena</td>\n",
       "      <td>Texas</td>\n",
       "      <td>United States</td>\n",
       "      <td>Central</td>\n",
       "      <td>Jan</td>\n",
       "    </tr>\n",
       "    <tr>\n",
       "      <th>51286</th>\n",
       "      <td>FA-2015-30772</td>\n",
       "      <td>2015-06-22</td>\n",
       "      <td>2015-06-24</td>\n",
       "      <td>2</td>\n",
       "      <td>Standard Class</td>\n",
       "      <td>Fashion</td>\n",
       "      <td>Sports Wear</td>\n",
       "      <td>85</td>\n",
       "      <td>1</td>\n",
       "      <td>0.03</td>\n",
       "      <td>...</td>\n",
       "      <td>0.245000</td>\n",
       "      <td>Medium</td>\n",
       "      <td>TT-0040978</td>\n",
       "      <td>Martinez Arnett</td>\n",
       "      <td>Corporate</td>\n",
       "      <td>Harare</td>\n",
       "      <td>Harare</td>\n",
       "      <td>Zimbabwe</td>\n",
       "      <td>Africa</td>\n",
       "      <td>Jun</td>\n",
       "    </tr>\n",
       "    <tr>\n",
       "      <th>51287</th>\n",
       "      <td>FA-2015-30773</td>\n",
       "      <td>2015-01-01</td>\n",
       "      <td>2015-01-07</td>\n",
       "      <td>6</td>\n",
       "      <td>Standard Class</td>\n",
       "      <td>Fashion</td>\n",
       "      <td>Sports Wear</td>\n",
       "      <td>85</td>\n",
       "      <td>1</td>\n",
       "      <td>0.05</td>\n",
       "      <td>...</td>\n",
       "      <td>0.075000</td>\n",
       "      <td>Medium</td>\n",
       "      <td>ON-0040979</td>\n",
       "      <td>Mccoy Duston</td>\n",
       "      <td>Home Office</td>\n",
       "      <td>Townsville</td>\n",
       "      <td>Queensland</td>\n",
       "      <td>Australia</td>\n",
       "      <td>Oceania</td>\n",
       "      <td>Jan</td>\n",
       "    </tr>\n",
       "    <tr>\n",
       "      <th>51288</th>\n",
       "      <td>FA-2015-30774</td>\n",
       "      <td>2015-12-07</td>\n",
       "      <td>2015-12-14</td>\n",
       "      <td>7</td>\n",
       "      <td>Standard Class</td>\n",
       "      <td>Fashion</td>\n",
       "      <td>Sports Wear</td>\n",
       "      <td>85</td>\n",
       "      <td>3</td>\n",
       "      <td>0.04</td>\n",
       "      <td>...</td>\n",
       "      <td>2.833333</td>\n",
       "      <td>Medium</td>\n",
       "      <td>RN-0040980</td>\n",
       "      <td>Bentley Zypern</td>\n",
       "      <td>Consumer</td>\n",
       "      <td>Houston</td>\n",
       "      <td>Texas</td>\n",
       "      <td>United States</td>\n",
       "      <td>Central</td>\n",
       "      <td>Dec</td>\n",
       "    </tr>\n",
       "    <tr>\n",
       "      <th>51289</th>\n",
       "      <td>FA-2015-30775</td>\n",
       "      <td>2015-12-01</td>\n",
       "      <td>2015-12-06</td>\n",
       "      <td>5</td>\n",
       "      <td>Standard Class</td>\n",
       "      <td>Fashion</td>\n",
       "      <td>Sports Wear</td>\n",
       "      <td>85</td>\n",
       "      <td>3</td>\n",
       "      <td>0.03</td>\n",
       "      <td>...</td>\n",
       "      <td>2.833333</td>\n",
       "      <td>Medium</td>\n",
       "      <td>RZ-0040981</td>\n",
       "      <td>Mcclure Schwarz</td>\n",
       "      <td>Home Office</td>\n",
       "      <td>Valinhos</td>\n",
       "      <td>São Paulo</td>\n",
       "      <td>Brazil</td>\n",
       "      <td>South</td>\n",
       "      <td>Dec</td>\n",
       "    </tr>\n",
       "  </tbody>\n",
       "</table>\n",
       "<p>51290 rows × 21 columns</p>\n",
       "</div>"
      ],
      "text/plain": [
       "            Order ID Order Date  Ship Date  Aging       Ship Mode  \\\n",
       "0          AU-2015-1 2015-11-09 2015-11-17      8     First Class   \n",
       "1          AU-2015-2 2015-06-30 2015-07-02      2     First Class   \n",
       "2          AU-2015-3 2015-12-05 2015-12-13      8     First Class   \n",
       "3          AU-2015-4 2015-05-09 2015-05-16      7     First Class   \n",
       "4          AU-2015-5 2015-07-09 2015-07-18      9     First Class   \n",
       "...              ...        ...        ...    ...             ...   \n",
       "51285  FA-2015-30771 2015-01-21 2015-01-27      6  Standard Class   \n",
       "51286  FA-2015-30772 2015-06-22 2015-06-24      2  Standard Class   \n",
       "51287  FA-2015-30773 2015-01-01 2015-01-07      6  Standard Class   \n",
       "51288  FA-2015-30774 2015-12-07 2015-12-14      7  Standard Class   \n",
       "51289  FA-2015-30775 2015-12-01 2015-12-06      5  Standard Class   \n",
       "\n",
       "         Product Category            Product  Sales  Quantity  Discount  ...  \\\n",
       "0      Auto & Accessories  Car Media Players    140         2      0.05  ...   \n",
       "1      Auto & Accessories       Car Speakers    211         3      0.03  ...   \n",
       "2      Auto & Accessories    Car Body Covers    117         5      0.01  ...   \n",
       "3      Auto & Accessories    Car & Bike Care    118         2      0.05  ...   \n",
       "4      Auto & Accessories               Tyre    250         1      0.04  ...   \n",
       "...                   ...                ...    ...       ...       ...  ...   \n",
       "51285             Fashion        Sports Wear     85         5      0.04  ...   \n",
       "51286             Fashion        Sports Wear     85         1      0.03  ...   \n",
       "51287             Fashion        Sports Wear     85         1      0.05  ...   \n",
       "51288             Fashion        Sports Wear     85         3      0.04  ...   \n",
       "51289             Fashion        Sports Wear     85         3      0.03  ...   \n",
       "\n",
       "       Shipping Cost  Order Priority Customer ID    Customer Name  \\\n",
       "0           4.600000          Medium      LS-001     Lane Daniels   \n",
       "1          11.201000          Medium      IZ-002    Alvarado Kriz   \n",
       "2           3.115000        Critical      EN-003       Moon Weien   \n",
       "3           2.620000            High      AN-004  Sanchez Bergman   \n",
       "4          16.000000        Critical      ON-005     Rowe Jackson   \n",
       "...              ...             ...         ...              ...   \n",
       "51285       1.700000          Medium  IN-0040977       Welch Fein   \n",
       "51286       0.245000          Medium  TT-0040978  Martinez Arnett   \n",
       "51287       0.075000          Medium  ON-0040979     Mccoy Duston   \n",
       "51288       2.833333          Medium  RN-0040980   Bentley Zypern   \n",
       "51289       2.833333          Medium  RZ-0040981  Mcclure Schwarz   \n",
       "\n",
       "           Segment        City       State        Country        Region Months  \n",
       "0         Consumer    Brisbane  Queensland      Australia       Oceania    Nov  \n",
       "1      Home Office      Berlin      Berlin        Germany       Central    Jun  \n",
       "2         Consumer     Porirua  Wellington    New Zealand       Oceania    Dec  \n",
       "3        Corporate       Kabul       Kabul    Afghanistan  Central Asia    May  \n",
       "4        Corporate  Townsville  Queensland      Australia       Oceania    Jul  \n",
       "...            ...         ...         ...            ...           ...    ...  \n",
       "51285    Corporate    Pasadena       Texas  United States       Central    Jan  \n",
       "51286    Corporate      Harare      Harare       Zimbabwe        Africa    Jun  \n",
       "51287  Home Office  Townsville  Queensland      Australia       Oceania    Jan  \n",
       "51288     Consumer     Houston       Texas  United States       Central    Dec  \n",
       "51289  Home Office    Valinhos   São Paulo         Brazil         South    Dec  \n",
       "\n",
       "[51290 rows x 21 columns]"
      ]
     },
     "execution_count": 10,
     "metadata": {},
     "output_type": "execute_result"
    }
   ],
   "source": [
    "#Đọc bảng ra dataframe\n",
    "filename = 'sales_data.xlsx'\n",
    "df = pd.read_excel(filename)\n",
    "df"
   ]
  },
  {
   "cell_type": "code",
   "execution_count": 11,
   "metadata": {},
   "outputs": [
    {
     "name": "stdout",
     "output_type": "stream",
     "text": [
      "<class 'pandas.core.frame.DataFrame'>\n",
      "RangeIndex: 51290 entries, 0 to 51289\n",
      "Data columns (total 21 columns):\n",
      " #   Column            Non-Null Count  Dtype         \n",
      "---  ------            --------------  -----         \n",
      " 0   Order ID          51290 non-null  object        \n",
      " 1   Order Date        51290 non-null  datetime64[ns]\n",
      " 2   Ship Date         51290 non-null  datetime64[ns]\n",
      " 3   Aging             51290 non-null  int64         \n",
      " 4   Ship Mode         51290 non-null  object        \n",
      " 5   Product Category  51290 non-null  object        \n",
      " 6   Product           51290 non-null  object        \n",
      " 7   Sales             51290 non-null  int64         \n",
      " 8   Quantity          51290 non-null  int64         \n",
      " 9   Discount          51290 non-null  float64       \n",
      " 10  Profit            51290 non-null  float64       \n",
      " 11  Shipping Cost     51290 non-null  float64       \n",
      " 12  Order Priority    51290 non-null  object        \n",
      " 13  Customer ID       51290 non-null  object        \n",
      " 14  Customer Name     51290 non-null  object        \n",
      " 15  Segment           51290 non-null  object        \n",
      " 16  City              51290 non-null  object        \n",
      " 17  State             51290 non-null  object        \n",
      " 18  Country           51290 non-null  object        \n",
      " 19  Region            51290 non-null  object        \n",
      " 20  Months            51290 non-null  object        \n",
      "dtypes: datetime64[ns](2), float64(3), int64(3), object(13)\n",
      "memory usage: 8.2+ MB\n",
      "None\n"
     ]
    }
   ],
   "source": [
    "#Thông tin bảng\n",
    "print(df.info())\n"
   ]
  },
  {
   "cell_type": "code",
   "execution_count": 12,
   "metadata": {},
   "outputs": [
    {
     "name": "stdout",
     "output_type": "stream",
     "text": [
      "{'Home & Furniture', 'Electronic', 'Fashion', 'Auto & Accessories'}\n",
      "{'Medium', 'Critical', 'High', 'Low'}\n",
      "{'Home Office', 'Consumer', 'Corporate'}\n",
      "{'Jan', 'Feb', 'Apr', 'May', 'Dec', 'Oct', 'Jun', 'Sep', 'Aug', 'Nov', 'Jul', 'Mar'}\n",
      "{'Second Class', 'Same Day', 'First Class', 'Standard Class'}\n",
      "{1, 2, 3, 4, 5, 6, 7, 8, 9, 10}\n",
      "{'Oceania', 'Southeast Asia', 'Canada', 'West', 'East', 'Central', 'Central Asia', 'Africa', 'South', 'North', 'Caribbean', 'North Asia', 'EMEA'}\n"
     ]
    }
   ],
   "source": [
    "#xem xét các đối tượng để phân tích doanh thu\n",
    "\n",
    "print(set(df['Product Category']))\n",
    "#print(set(df['Product']))\n",
    "print(set(df['Order Priority']))\n",
    "print(set(df['Segment']))\n",
    "#print(set(df['City']))\n",
    "#print(set(df['State']))\n",
    "#print(set(df['Country']))\n",
    "print(set(df['Months']))\n",
    "print(set(df['Ship Mode']))\n",
    "print(set(df['Aging']))\n",
    "print(set(df['Region']))"
   ]
  },
  {
   "cell_type": "code",
   "execution_count": 13,
   "metadata": {},
   "outputs": [
    {
     "data": {
      "text/html": [
       "<div>\n",
       "<style scoped>\n",
       "    .dataframe tbody tr th:only-of-type {\n",
       "        vertical-align: middle;\n",
       "    }\n",
       "\n",
       "    .dataframe tbody tr th {\n",
       "        vertical-align: top;\n",
       "    }\n",
       "\n",
       "    .dataframe thead th {\n",
       "        text-align: right;\n",
       "    }\n",
       "</style>\n",
       "<table border=\"1\" class=\"dataframe\">\n",
       "  <thead>\n",
       "    <tr style=\"text-align: right;\">\n",
       "      <th></th>\n",
       "      <th>Order ID</th>\n",
       "      <th>Order Date</th>\n",
       "      <th>Ship Date</th>\n",
       "      <th>Aging</th>\n",
       "      <th>Ship Mode</th>\n",
       "      <th>Product Category</th>\n",
       "      <th>Product</th>\n",
       "      <th>Sales</th>\n",
       "      <th>Quantity</th>\n",
       "      <th>Discount</th>\n",
       "      <th>...</th>\n",
       "      <th>Order Priority</th>\n",
       "      <th>Customer ID</th>\n",
       "      <th>Customer Name</th>\n",
       "      <th>Segment</th>\n",
       "      <th>City</th>\n",
       "      <th>State</th>\n",
       "      <th>Country</th>\n",
       "      <th>Region</th>\n",
       "      <th>Months</th>\n",
       "      <th>Number_of_Month</th>\n",
       "    </tr>\n",
       "  </thead>\n",
       "  <tbody>\n",
       "    <tr>\n",
       "      <th>0</th>\n",
       "      <td>AU-2015-1</td>\n",
       "      <td>2015-11-09</td>\n",
       "      <td>2015-11-17</td>\n",
       "      <td>8</td>\n",
       "      <td>First Class</td>\n",
       "      <td>Auto &amp; Accessories</td>\n",
       "      <td>Car Media Players</td>\n",
       "      <td>140</td>\n",
       "      <td>2</td>\n",
       "      <td>0.05</td>\n",
       "      <td>...</td>\n",
       "      <td>Medium</td>\n",
       "      <td>LS-001</td>\n",
       "      <td>Lane Daniels</td>\n",
       "      <td>Consumer</td>\n",
       "      <td>Brisbane</td>\n",
       "      <td>Queensland</td>\n",
       "      <td>Australia</td>\n",
       "      <td>Oceania</td>\n",
       "      <td>Nov</td>\n",
       "      <td>11</td>\n",
       "    </tr>\n",
       "    <tr>\n",
       "      <th>1</th>\n",
       "      <td>AU-2015-2</td>\n",
       "      <td>2015-06-30</td>\n",
       "      <td>2015-07-02</td>\n",
       "      <td>2</td>\n",
       "      <td>First Class</td>\n",
       "      <td>Auto &amp; Accessories</td>\n",
       "      <td>Car Speakers</td>\n",
       "      <td>211</td>\n",
       "      <td>3</td>\n",
       "      <td>0.03</td>\n",
       "      <td>...</td>\n",
       "      <td>Medium</td>\n",
       "      <td>IZ-002</td>\n",
       "      <td>Alvarado Kriz</td>\n",
       "      <td>Home Office</td>\n",
       "      <td>Berlin</td>\n",
       "      <td>Berlin</td>\n",
       "      <td>Germany</td>\n",
       "      <td>Central</td>\n",
       "      <td>Jun</td>\n",
       "      <td>6</td>\n",
       "    </tr>\n",
       "    <tr>\n",
       "      <th>2</th>\n",
       "      <td>AU-2015-3</td>\n",
       "      <td>2015-12-05</td>\n",
       "      <td>2015-12-13</td>\n",
       "      <td>8</td>\n",
       "      <td>First Class</td>\n",
       "      <td>Auto &amp; Accessories</td>\n",
       "      <td>Car Body Covers</td>\n",
       "      <td>117</td>\n",
       "      <td>5</td>\n",
       "      <td>0.01</td>\n",
       "      <td>...</td>\n",
       "      <td>Critical</td>\n",
       "      <td>EN-003</td>\n",
       "      <td>Moon Weien</td>\n",
       "      <td>Consumer</td>\n",
       "      <td>Porirua</td>\n",
       "      <td>Wellington</td>\n",
       "      <td>New Zealand</td>\n",
       "      <td>Oceania</td>\n",
       "      <td>Dec</td>\n",
       "      <td>12</td>\n",
       "    </tr>\n",
       "    <tr>\n",
       "      <th>3</th>\n",
       "      <td>AU-2015-4</td>\n",
       "      <td>2015-05-09</td>\n",
       "      <td>2015-05-16</td>\n",
       "      <td>7</td>\n",
       "      <td>First Class</td>\n",
       "      <td>Auto &amp; Accessories</td>\n",
       "      <td>Car &amp; Bike Care</td>\n",
       "      <td>118</td>\n",
       "      <td>2</td>\n",
       "      <td>0.05</td>\n",
       "      <td>...</td>\n",
       "      <td>High</td>\n",
       "      <td>AN-004</td>\n",
       "      <td>Sanchez Bergman</td>\n",
       "      <td>Corporate</td>\n",
       "      <td>Kabul</td>\n",
       "      <td>Kabul</td>\n",
       "      <td>Afghanistan</td>\n",
       "      <td>Central Asia</td>\n",
       "      <td>May</td>\n",
       "      <td>5</td>\n",
       "    </tr>\n",
       "    <tr>\n",
       "      <th>4</th>\n",
       "      <td>AU-2015-5</td>\n",
       "      <td>2015-07-09</td>\n",
       "      <td>2015-07-18</td>\n",
       "      <td>9</td>\n",
       "      <td>First Class</td>\n",
       "      <td>Auto &amp; Accessories</td>\n",
       "      <td>Tyre</td>\n",
       "      <td>250</td>\n",
       "      <td>1</td>\n",
       "      <td>0.04</td>\n",
       "      <td>...</td>\n",
       "      <td>Critical</td>\n",
       "      <td>ON-005</td>\n",
       "      <td>Rowe Jackson</td>\n",
       "      <td>Corporate</td>\n",
       "      <td>Townsville</td>\n",
       "      <td>Queensland</td>\n",
       "      <td>Australia</td>\n",
       "      <td>Oceania</td>\n",
       "      <td>Jul</td>\n",
       "      <td>7</td>\n",
       "    </tr>\n",
       "    <tr>\n",
       "      <th>...</th>\n",
       "      <td>...</td>\n",
       "      <td>...</td>\n",
       "      <td>...</td>\n",
       "      <td>...</td>\n",
       "      <td>...</td>\n",
       "      <td>...</td>\n",
       "      <td>...</td>\n",
       "      <td>...</td>\n",
       "      <td>...</td>\n",
       "      <td>...</td>\n",
       "      <td>...</td>\n",
       "      <td>...</td>\n",
       "      <td>...</td>\n",
       "      <td>...</td>\n",
       "      <td>...</td>\n",
       "      <td>...</td>\n",
       "      <td>...</td>\n",
       "      <td>...</td>\n",
       "      <td>...</td>\n",
       "      <td>...</td>\n",
       "      <td>...</td>\n",
       "    </tr>\n",
       "    <tr>\n",
       "      <th>51285</th>\n",
       "      <td>FA-2015-30771</td>\n",
       "      <td>2015-01-21</td>\n",
       "      <td>2015-01-27</td>\n",
       "      <td>6</td>\n",
       "      <td>Standard Class</td>\n",
       "      <td>Fashion</td>\n",
       "      <td>Sports Wear</td>\n",
       "      <td>85</td>\n",
       "      <td>5</td>\n",
       "      <td>0.04</td>\n",
       "      <td>...</td>\n",
       "      <td>Medium</td>\n",
       "      <td>IN-0040977</td>\n",
       "      <td>Welch Fein</td>\n",
       "      <td>Corporate</td>\n",
       "      <td>Pasadena</td>\n",
       "      <td>Texas</td>\n",
       "      <td>United States</td>\n",
       "      <td>Central</td>\n",
       "      <td>Jan</td>\n",
       "      <td>1</td>\n",
       "    </tr>\n",
       "    <tr>\n",
       "      <th>51286</th>\n",
       "      <td>FA-2015-30772</td>\n",
       "      <td>2015-06-22</td>\n",
       "      <td>2015-06-24</td>\n",
       "      <td>2</td>\n",
       "      <td>Standard Class</td>\n",
       "      <td>Fashion</td>\n",
       "      <td>Sports Wear</td>\n",
       "      <td>85</td>\n",
       "      <td>1</td>\n",
       "      <td>0.03</td>\n",
       "      <td>...</td>\n",
       "      <td>Medium</td>\n",
       "      <td>TT-0040978</td>\n",
       "      <td>Martinez Arnett</td>\n",
       "      <td>Corporate</td>\n",
       "      <td>Harare</td>\n",
       "      <td>Harare</td>\n",
       "      <td>Zimbabwe</td>\n",
       "      <td>Africa</td>\n",
       "      <td>Jun</td>\n",
       "      <td>6</td>\n",
       "    </tr>\n",
       "    <tr>\n",
       "      <th>51287</th>\n",
       "      <td>FA-2015-30773</td>\n",
       "      <td>2015-01-01</td>\n",
       "      <td>2015-01-07</td>\n",
       "      <td>6</td>\n",
       "      <td>Standard Class</td>\n",
       "      <td>Fashion</td>\n",
       "      <td>Sports Wear</td>\n",
       "      <td>85</td>\n",
       "      <td>1</td>\n",
       "      <td>0.05</td>\n",
       "      <td>...</td>\n",
       "      <td>Medium</td>\n",
       "      <td>ON-0040979</td>\n",
       "      <td>Mccoy Duston</td>\n",
       "      <td>Home Office</td>\n",
       "      <td>Townsville</td>\n",
       "      <td>Queensland</td>\n",
       "      <td>Australia</td>\n",
       "      <td>Oceania</td>\n",
       "      <td>Jan</td>\n",
       "      <td>1</td>\n",
       "    </tr>\n",
       "    <tr>\n",
       "      <th>51288</th>\n",
       "      <td>FA-2015-30774</td>\n",
       "      <td>2015-12-07</td>\n",
       "      <td>2015-12-14</td>\n",
       "      <td>7</td>\n",
       "      <td>Standard Class</td>\n",
       "      <td>Fashion</td>\n",
       "      <td>Sports Wear</td>\n",
       "      <td>85</td>\n",
       "      <td>3</td>\n",
       "      <td>0.04</td>\n",
       "      <td>...</td>\n",
       "      <td>Medium</td>\n",
       "      <td>RN-0040980</td>\n",
       "      <td>Bentley Zypern</td>\n",
       "      <td>Consumer</td>\n",
       "      <td>Houston</td>\n",
       "      <td>Texas</td>\n",
       "      <td>United States</td>\n",
       "      <td>Central</td>\n",
       "      <td>Dec</td>\n",
       "      <td>12</td>\n",
       "    </tr>\n",
       "    <tr>\n",
       "      <th>51289</th>\n",
       "      <td>FA-2015-30775</td>\n",
       "      <td>2015-12-01</td>\n",
       "      <td>2015-12-06</td>\n",
       "      <td>5</td>\n",
       "      <td>Standard Class</td>\n",
       "      <td>Fashion</td>\n",
       "      <td>Sports Wear</td>\n",
       "      <td>85</td>\n",
       "      <td>3</td>\n",
       "      <td>0.03</td>\n",
       "      <td>...</td>\n",
       "      <td>Medium</td>\n",
       "      <td>RZ-0040981</td>\n",
       "      <td>Mcclure Schwarz</td>\n",
       "      <td>Home Office</td>\n",
       "      <td>Valinhos</td>\n",
       "      <td>São Paulo</td>\n",
       "      <td>Brazil</td>\n",
       "      <td>South</td>\n",
       "      <td>Dec</td>\n",
       "      <td>12</td>\n",
       "    </tr>\n",
       "  </tbody>\n",
       "</table>\n",
       "<p>51290 rows × 22 columns</p>\n",
       "</div>"
      ],
      "text/plain": [
       "            Order ID Order Date  Ship Date  Aging       Ship Mode  \\\n",
       "0          AU-2015-1 2015-11-09 2015-11-17      8     First Class   \n",
       "1          AU-2015-2 2015-06-30 2015-07-02      2     First Class   \n",
       "2          AU-2015-3 2015-12-05 2015-12-13      8     First Class   \n",
       "3          AU-2015-4 2015-05-09 2015-05-16      7     First Class   \n",
       "4          AU-2015-5 2015-07-09 2015-07-18      9     First Class   \n",
       "...              ...        ...        ...    ...             ...   \n",
       "51285  FA-2015-30771 2015-01-21 2015-01-27      6  Standard Class   \n",
       "51286  FA-2015-30772 2015-06-22 2015-06-24      2  Standard Class   \n",
       "51287  FA-2015-30773 2015-01-01 2015-01-07      6  Standard Class   \n",
       "51288  FA-2015-30774 2015-12-07 2015-12-14      7  Standard Class   \n",
       "51289  FA-2015-30775 2015-12-01 2015-12-06      5  Standard Class   \n",
       "\n",
       "         Product Category            Product  Sales  Quantity  Discount  ...  \\\n",
       "0      Auto & Accessories  Car Media Players    140         2      0.05  ...   \n",
       "1      Auto & Accessories       Car Speakers    211         3      0.03  ...   \n",
       "2      Auto & Accessories    Car Body Covers    117         5      0.01  ...   \n",
       "3      Auto & Accessories    Car & Bike Care    118         2      0.05  ...   \n",
       "4      Auto & Accessories               Tyre    250         1      0.04  ...   \n",
       "...                   ...                ...    ...       ...       ...  ...   \n",
       "51285             Fashion        Sports Wear     85         5      0.04  ...   \n",
       "51286             Fashion        Sports Wear     85         1      0.03  ...   \n",
       "51287             Fashion        Sports Wear     85         1      0.05  ...   \n",
       "51288             Fashion        Sports Wear     85         3      0.04  ...   \n",
       "51289             Fashion        Sports Wear     85         3      0.03  ...   \n",
       "\n",
       "       Order Priority  Customer ID    Customer Name      Segment        City  \\\n",
       "0              Medium       LS-001     Lane Daniels     Consumer    Brisbane   \n",
       "1              Medium       IZ-002    Alvarado Kriz  Home Office      Berlin   \n",
       "2            Critical       EN-003       Moon Weien     Consumer     Porirua   \n",
       "3                High       AN-004  Sanchez Bergman    Corporate       Kabul   \n",
       "4            Critical       ON-005     Rowe Jackson    Corporate  Townsville   \n",
       "...               ...          ...              ...          ...         ...   \n",
       "51285          Medium   IN-0040977       Welch Fein    Corporate    Pasadena   \n",
       "51286          Medium   TT-0040978  Martinez Arnett    Corporate      Harare   \n",
       "51287          Medium   ON-0040979     Mccoy Duston  Home Office  Townsville   \n",
       "51288          Medium   RN-0040980   Bentley Zypern     Consumer     Houston   \n",
       "51289          Medium   RZ-0040981  Mcclure Schwarz  Home Office    Valinhos   \n",
       "\n",
       "            State        Country        Region Months Number_of_Month  \n",
       "0      Queensland      Australia       Oceania    Nov              11  \n",
       "1          Berlin        Germany       Central    Jun               6  \n",
       "2      Wellington    New Zealand       Oceania    Dec              12  \n",
       "3           Kabul    Afghanistan  Central Asia    May               5  \n",
       "4      Queensland      Australia       Oceania    Jul               7  \n",
       "...           ...            ...           ...    ...             ...  \n",
       "51285       Texas  United States       Central    Jan               1  \n",
       "51286      Harare       Zimbabwe        Africa    Jun               6  \n",
       "51287  Queensland      Australia       Oceania    Jan               1  \n",
       "51288       Texas  United States       Central    Dec              12  \n",
       "51289   São Paulo         Brazil         South    Dec              12  \n",
       "\n",
       "[51290 rows x 22 columns]"
      ]
     },
     "execution_count": 13,
     "metadata": {},
     "output_type": "execute_result"
    }
   ],
   "source": [
    "#Thêm cột tháng bằng số\n",
    "df['Number_of_Month'] = df['Order Date'].dt.month\n",
    "df"
   ]
  },
  {
   "cell_type": "markdown",
   "metadata": {},
   "source": [
    "1. Tổng quan\n"
   ]
  },
  {
   "cell_type": "code",
   "execution_count": 15,
   "metadata": {},
   "outputs": [
    {
     "name": "stdout",
     "output_type": "stream",
     "text": [
      "Tổng doanh thu: 8023381\n",
      "Tổng lợi nhuận: 3729902.95\n",
      "Tổng giảm giá: 1537.22\n",
      "Tổng số sản phẩn bán được: 153732\n",
      "Tổng số đơn hàng: 51290\n",
      "Tổng phí ship: 372990.295\n"
     ]
    }
   ],
   "source": [
    "sum_sale = df['Sales'].sum()\n",
    "sum_profit = df['Profit'].sum()\n",
    "sum_discount = df['Discount'].sum()\n",
    "sum_quantity = df['Quantity'].sum()\n",
    "sum_order = df['Order ID'].count()\n",
    "ship = df['Shipping Cost'].sum()\n",
    "\n",
    "print('Tổng doanh thu:',sum_sale)\n",
    "print('Tổng lợi nhuận:',round(sum_profit,2))\n",
    "print('Tổng giảm giá:',round(sum_discount,2))\n",
    "print('Tổng số sản phẩn bán được:',sum_quantity)\n",
    "print('Tổng số đơn hàng:',sum_order)\n",
    "print('Tổng phí ship:',ship)\n"
   ]
  },
  {
   "cell_type": "markdown",
   "metadata": {},
   "source": [
    "2. Theo loại hàng"
   ]
  },
  {
   "cell_type": "code",
   "execution_count": 16,
   "metadata": {},
   "outputs": [
    {
     "name": "stdout",
     "output_type": "stream",
     "text": [
      "Product Category\n",
      "Auto & Accessories    1097139\n",
      "Electronic             394738\n",
      "Fashion               5212097\n",
      "Home & Furniture      1319407\n",
      "Name: Sales, dtype: int64\n",
      "Product Category\n",
      "Auto & Accessories     484277.63\n",
      "Electronic             174175.04\n",
      "Fashion               2483852.63\n",
      "Home & Furniture       587597.65\n",
      "Name: Profit, dtype: float64\n",
      "Product Category\n",
      "Auto & Accessories     7505\n",
      "Electronic             2701\n",
      "Fashion               30775\n",
      "Home & Furniture      10309\n",
      "Name: Quantity, dtype: int64\n"
     ]
    }
   ],
   "source": [
    "sale1 = df.groupby('Product Category').sum()['Sales']\n",
    "profit1 = df.groupby('Product Category').sum()['Profit'].round(2)\n",
    "quantity1 = df.groupby('Product Category')['Quantity'].count()\n",
    "print(sale1)\n",
    "print(profit1)\n",
    "print(quantity1)\n"
   ]
  },
  {
   "cell_type": "code",
   "execution_count": 17,
   "metadata": {},
   "outputs": [
    {
     "data": {
      "image/png": "[encoded data removed]",
      "text/plain": [
       "<Figure size 432x288 with 1 Axes>"
      ]
     },
     "metadata": {
      "needs_background": "light"
     },
     "output_type": "display_data"
    },
    {
     "name": "stdout",
     "output_type": "stream",
     "text": [
      "Loại có doanh thu cao nhất là: Fashion\n",
      "Với doanh thu: 5212097\n"
     ]
    }
   ],
   "source": [
    "#Doanh thu \n",
    "category = df['Product Category'].sort_values().unique()\n",
    "plt.xlabel('category')\n",
    "plt.ylabel('Sales')\n",
    "plt.bar(x = category, height = sale1)\n",
    "plt.show()\n",
    "\n",
    "#Loại hàng có doanh thu cao nhất\n",
    "print('Loại có doanh thu cao nhất là:',sale1.idxmax())\n",
    "print('Với doanh thu:',sale1.max())"
   ]
  },
  {
   "cell_type": "code",
   "execution_count": 18,
   "metadata": {},
   "outputs": [
    {
     "data": {
      "image/png": "[encoded data removed]",
      "text/plain": [
       "<Figure size 432x288 with 1 Axes>"
      ]
     },
     "metadata": {
      "needs_background": "light"
     },
     "output_type": "display_data"
    },
    {
     "name": "stdout",
     "output_type": "stream",
     "text": [
      "Loại hàng có lợi nhuận cao nhất là: Fashion\n",
      "Với lợi nhuận: 2483852.63\n"
     ]
    }
   ],
   "source": [
    "#Lợi nhuận\n",
    "plt.xlabel('category')\n",
    "plt.ylabel('Profit')\n",
    "plt.bar(x = category, height = profit1)\n",
    "plt.show()\n",
    "\n",
    "#Loại hàng có doanh thu cao nhất\n",
    "print('Loại hàng có lợi nhuận cao nhất là:',profit1.idxmax())\n",
    "print('Với lợi nhuận:',profit1.max())"
   ]
  },
  {
   "cell_type": "code",
   "execution_count": 19,
   "metadata": {},
   "outputs": [
    {
     "data": {
      "image/png": "[encoded data removed]",
      "text/plain": [
       "<Figure size 432x288 with 1 Axes>"
      ]
     },
     "metadata": {
      "needs_background": "light"
     },
     "output_type": "display_data"
    },
    {
     "name": "stdout",
     "output_type": "stream",
     "text": [
      "loại hàng có số lượng bán cao nhất là: Fashion\n",
      "Với số lượng: 30775\n"
     ]
    }
   ],
   "source": [
    "#Số lượng\n",
    "plt.xlabel('category')\n",
    "plt.ylabel('quantity')\n",
    "plt.bar(x = category, height = quantity1)\n",
    "plt.show()\n",
    "\n",
    "#Loại hàng có số lượng cao nhất\n",
    "print('loại hàng có số lượng bán cao nhất là:',quantity1.idxmax())\n",
    "print('Với số lượng:',quantity1.max())"
   ]
  },
  {
   "cell_type": "markdown",
   "metadata": {},
   "source": [
    "3. Theo phân khúc khách hàng"
   ]
  },
  {
   "cell_type": "code",
   "execution_count": 20,
   "metadata": {},
   "outputs": [
    {
     "name": "stdout",
     "output_type": "stream",
     "text": [
      "Segment\n",
      "Consumer       4135221\n",
      "Corporate      2421560\n",
      "Home Office    1466600\n",
      "Name: Sales, dtype: int64\n",
      "Segment\n",
      "Consumer       1915711.97\n",
      "Corporate      1128762.70\n",
      "Home Office     685428.28\n",
      "Name: Profit, dtype: float64\n"
     ]
    }
   ],
   "source": [
    "sale2 = df.groupby('Segment').sum()['Sales']\n",
    "profit2 = df.groupby('Segment').sum()['Profit'].round(2)\n",
    "print(sale2)\n",
    "print(profit2)"
   ]
  },
  {
   "cell_type": "code",
   "execution_count": 21,
   "metadata": {},
   "outputs": [
    {
     "data": {
      "image/png": "[encoded data removed]",
      "text/plain": [
       "<Figure size 432x288 with 1 Axes>"
      ]
     },
     "metadata": {
      "needs_background": "light"
     },
     "output_type": "display_data"
    },
    {
     "name": "stdout",
     "output_type": "stream",
     "text": [
      "Loại hàng cho doanh thu cao nhất là: Consumer\n",
      "Với doanh thu: 4135221\n"
     ]
    }
   ],
   "source": [
    "#Doanh thu \n",
    "segment = df['Segment'].sort_values().unique()\n",
    "plt.xlabel('Segment')\n",
    "plt.ylabel('Sales')\n",
    "plt.bar(x = segment, height = sale2)\n",
    "plt.show()\n",
    "\n",
    "#Loại khách hàng cho doanh thu cao nhất\n",
    "print('Loại hàng cho doanh thu cao nhất là:',sale2.idxmax())\n",
    "print('Với doanh thu:',sale2.max())"
   ]
  },
  {
   "cell_type": "code",
   "execution_count": 22,
   "metadata": {},
   "outputs": [
    {
     "data": {
      "image/png": "[encoded data removed]",
      "text/plain": [
       "<Figure size 432x288 with 1 Axes>"
      ]
     },
     "metadata": {
      "needs_background": "light"
     },
     "output_type": "display_data"
    },
    {
     "name": "stdout",
     "output_type": "stream",
     "text": [
      "Loại khách hàng cho lợi nhuận cao nhất là: Consumer\n",
      "Với lợi nhuận: 1915711.97\n"
     ]
    }
   ],
   "source": [
    "#Lợi nhuận\n",
    "segment = df['Segment'].sort_values().unique()\n",
    "plt.xlabel('Segment')\n",
    "plt.ylabel('Profit')\n",
    "plt.bar(x = segment, height = profit2)\n",
    "plt.show()\n",
    "\n",
    "#Loại khách hàng cho lợi nhuận cao nhất\n",
    "print('Loại khách hàng cho lợi nhuận cao nhất là:',profit2.idxmax())\n",
    "print('Với lợi nhuận:',profit2.max())"
   ]
  },
  {
   "cell_type": "markdown",
   "metadata": {},
   "source": [
    "4. Theo tháng"
   ]
  },
  {
   "cell_type": "code",
   "execution_count": 23,
   "metadata": {},
   "outputs": [
    {
     "name": "stdout",
     "output_type": "stream",
     "text": [
      "Number_of_Month\n",
      "1     676313\n",
      "2     610240\n",
      "3     686681\n",
      "4     659404\n",
      "5     672547\n",
      "6     664560\n",
      "7     685152\n",
      "8     670788\n",
      "9     658844\n",
      "10    689116\n",
      "11    656663\n",
      "12    693073\n",
      "Name: Sales, dtype: int64\n",
      "Number_of_Month\n",
      "1     313566.35\n",
      "2     286102.62\n",
      "3     317186.01\n",
      "4     308364.51\n",
      "5     313751.25\n",
      "6     307585.02\n",
      "7     318703.20\n",
      "8     310442.84\n",
      "9     305334.46\n",
      "10    320748.67\n",
      "11    304716.10\n",
      "12    323401.92\n",
      "Name: Profit, dtype: float64\n"
     ]
    }
   ],
   "source": [
    "sale3 = df.groupby('Number_of_Month').sum()['Sales']\n",
    "profit3 = df.groupby('Number_of_Month').sum()['Profit'].round(2)\n",
    "print(sale3)\n",
    "print(profit3)"
   ]
  },
  {
   "cell_type": "code",
   "execution_count": 24,
   "metadata": {},
   "outputs": [
    {
     "data": {
      "image/png": "[encoded data removed]",
      "text/plain": [
       "<Figure size 432x288 with 1 Axes>"
      ]
     },
     "metadata": {
      "needs_background": "light"
     },
     "output_type": "display_data"
    },
    {
     "name": "stdout",
     "output_type": "stream",
     "text": [
      "Tháng có doanh thu cao nhất là: 12\n",
      "Với doanh thu: 693073\n"
     ]
    }
   ],
   "source": [
    "#Doanh thu \n",
    "month = df['Number_of_Month'].sort_values().unique()\n",
    "plt.xlabel('Months')\n",
    "plt.ylabel('Sales')\n",
    "plt.bar(x = month, height = sale3)\n",
    "plt.show()\n",
    "\n",
    "#Tháng có doanh thu cao nhất\n",
    "print('Tháng có doanh thu cao nhất là:',sale3.idxmax())\n",
    "print('Với doanh thu:',sale3.max())"
   ]
  },
  {
   "cell_type": "code",
   "execution_count": 25,
   "metadata": {},
   "outputs": [
    {
     "data": {
      "image/png": "[encoded data removed]",
      "text/plain": [
       "<Figure size 432x288 with 1 Axes>"
      ]
     },
     "metadata": {
      "needs_background": "light"
     },
     "output_type": "display_data"
    },
    {
     "name": "stdout",
     "output_type": "stream",
     "text": [
      "Tháng có lợi nhuận cao nhất là: 12\n",
      "Với lợi nhuận: 323401.92\n"
     ]
    }
   ],
   "source": [
    "#Lợi nhuận\n",
    "month = df['Number_of_Month'].sort_values().unique()\n",
    "plt.xlabel('Months')\n",
    "plt.ylabel('Profit')\n",
    "plt.bar(x = month, height = profit3)\n",
    "plt.show()\n",
    "\n",
    "#Tháng có lợi nhuận cao nhất\n",
    "print('Tháng có lợi nhuận cao nhất là:',profit3.idxmax())\n",
    "print('Với lợi nhuận:',profit3.max())"
   ]
  },
  {
   "cell_type": "markdown",
   "metadata": {},
   "source": [
    "5. Theo khu vực"
   ]
  },
  {
   "cell_type": "code",
   "execution_count": 26,
   "metadata": {},
   "outputs": [
    {
     "name": "stdout",
     "output_type": "stream",
     "text": [
      "Region\n",
      "Africa             713074\n",
      "Canada              60003\n",
      "Caribbean          260495\n",
      "Central           1735900\n",
      "Central Asia       321005\n",
      "EMEA               788072\n",
      "East               446468\n",
      "North              750482\n",
      "North Asia         369816\n",
      "Oceania            544827\n",
      "South             1034884\n",
      "Southeast Asia     500923\n",
      "West               497432\n",
      "Name: Sales, dtype: int64\n",
      "Region\n",
      "Africa            332206.83\n",
      "Canada             27782.31\n",
      "Caribbean         120602.70\n",
      "Central           804172.61\n",
      "Central Asia      149526.03\n",
      "EMEA              368553.72\n",
      "East              206683.03\n",
      "North             349285.21\n",
      "North Asia        170911.36\n",
      "Oceania           253680.81\n",
      "South             479146.82\n",
      "Southeast Asia    235587.85\n",
      "West              231763.69\n",
      "Name: Profit, dtype: float64\n"
     ]
    }
   ],
   "source": [
    "sale4 = df.groupby('Region').sum()['Sales']\n",
    "profit4 = df.groupby('Region').sum()['Profit'].round(2)\n",
    "print(sale4)\n",
    "print(profit4)"
   ]
  },
  {
   "cell_type": "code",
   "execution_count": 27,
   "metadata": {},
   "outputs": [
    {
     "data": {
      "image/png": "[encoded data removed]",
      "text/plain": [
       "<Figure size 432x288 with 1 Axes>"
      ]
     },
     "metadata": {
      "needs_background": "light"
     },
     "output_type": "display_data"
    },
    {
     "name": "stdout",
     "output_type": "stream",
     "text": [
      "Khu vực có doanh thu cao nhất là: Central\n",
      "Với doanh thu: 1735900\n"
     ]
    }
   ],
   "source": [
    "#Doanh thu \n",
    "region = df['Region'].sort_values().unique()\n",
    "plt.xlabel('Region')\n",
    "plt.ylabel('Sales')\n",
    "plt.bar(x = region, height = sale4)\n",
    "plt.xticks(rotation=45)\n",
    "#plt.rcParams[\"figure.figsize\"] = (10,3)\n",
    "plt.show()\n",
    "\n",
    "#Khu vực có doanh thu cao nhất\n",
    "print('Khu vực có doanh thu cao nhất là:',sale4.idxmax())\n",
    "print('Với doanh thu:',sale4.max())"
   ]
  },
  {
   "cell_type": "code",
   "execution_count": 28,
   "metadata": {},
   "outputs": [
    {
     "data": {
      "image/png": "[encoded data removed]",
      "text/plain": [
       "<Figure size 432x288 with 1 Axes>"
      ]
     },
     "metadata": {
      "needs_background": "light"
     },
     "output_type": "display_data"
    },
    {
     "name": "stdout",
     "output_type": "stream",
     "text": [
      "Khu vực có lợi nhuận cao nhất là: Central\n",
      "Với lợi nhuận: 804172.61\n"
     ]
    }
   ],
   "source": [
    "#Lợi nhuận\n",
    "region = df['Region'].sort_values().unique()\n",
    "plt.xlabel('Region')\n",
    "plt.ylabel('Profit')\n",
    "plt.bar(x = region, height = profit4)\n",
    "plt.xticks(rotation=45)\n",
    "#plt.rcParams[\"figure.figsize\"] = (10,3)\n",
    "plt.show()\n",
    "\n",
    "#Khu vực có lợi nhuận cao nhất\n",
    "print('Khu vực có lợi nhuận cao nhất là:',profit4.idxmax())\n",
    "print('Với lợi nhuận:',profit4.max())"
   ]
  },
  {
   "cell_type": "markdown",
   "metadata": {},
   "source": [
    "6. Theo số ngày xử lý"
   ]
  },
  {
   "cell_type": "code",
   "execution_count": 29,
   "metadata": {},
   "outputs": [
    {
     "name": "stdout",
     "output_type": "stream",
     "text": [
      "Aging\n",
      "1     7467\n",
      "2     4815\n",
      "3     5017\n",
      "4     4875\n",
      "5     4939\n",
      "6     4892\n",
      "7     4900\n",
      "8     4820\n",
      "9     4674\n",
      "10    4891\n",
      "Name: Order ID, dtype: int64\n",
      "Order Priority\n",
      "Critical    4.71\n",
      "High        5.15\n",
      "Low         5.45\n",
      "Medium      5.37\n",
      "Name: Aging, dtype: float64\n",
      "Region\n",
      "Africa            5.28\n",
      "Canada            5.05\n",
      "Caribbean         5.17\n",
      "Central           5.24\n",
      "Central Asia      5.40\n",
      "EMEA              5.26\n",
      "East              5.34\n",
      "North             5.20\n",
      "North Asia        5.23\n",
      "Oceania           5.24\n",
      "South             5.27\n",
      "Southeast Asia    5.27\n",
      "West              5.25\n",
      "Name: Aging, dtype: float64\n"
     ]
    }
   ],
   "source": [
    "count_aging = df.groupby('Aging')['Order ID'].count()\n",
    "mean_aging = round(df['Aging'].mean())\n",
    "std_aging = round(df['Aging'].std())\n",
    "priority_aging = df.groupby('Order Priority')['Aging'].mean().round(2)\n",
    "region_aging = df.groupby('Region')['Aging'].mean().round(2)\n",
    "print(count_aging)\n",
    "print(priority_aging)\n",
    "print(region_aging)\n"
   ]
  },
  {
   "cell_type": "code",
   "execution_count": 30,
   "metadata": {},
   "outputs": [
    {
     "data": {
      "image/png": "[encoded data removed]",
      "text/plain": [
       "<Figure size 432x288 with 1 Axes>"
      ]
     },
     "metadata": {
      "needs_background": "light"
     },
     "output_type": "display_data"
    },
    {
     "name": "stdout",
     "output_type": "stream",
     "text": [
      "Số ngày xử lý đơn hàng: 5 +- 3\n"
     ]
    }
   ],
   "source": [
    "#Số đơn hàng theo thời gian xử lý\n",
    "aging = df['Aging'].sort_values().unique()\n",
    "plt.xlabel('Aging')\n",
    "plt.ylabel('Count_day')\n",
    "plt.bar(x = aging, height = count_aging)\n",
    "plt.show()\n",
    "print('Số ngày xử lý đơn hàng:',mean_aging,'+-',std_aging)"
   ]
  },
  {
   "cell_type": "code",
   "execution_count": 31,
   "metadata": {},
   "outputs": [
    {
     "data": {
      "image/png": "[encoded data removed]",
      "text/plain": [
       "<Figure size 432x288 with 1 Axes>"
      ]
     },
     "metadata": {
      "needs_background": "light"
     },
     "output_type": "display_data"
    }
   ],
   "source": [
    "#Thời gian xử lý trung bình từng khu vực\n",
    "plt.xlabel('Region')\n",
    "plt.ylabel('Avg_aging')\n",
    "plt.bar(x = region, height = region_aging)\n",
    "plt.xticks(rotation=45)\n",
    "#plt.rcParams[\"figure.figsize\"] = (10,3)\n",
    "plt.show()"
   ]
  },
  {
   "cell_type": "code",
   "execution_count": 32,
   "metadata": {},
   "outputs": [
    {
     "data": {
      "image/png": "[encoded data removed]",
      "text/plain": [
       "<Figure size 432x288 with 1 Axes>"
      ]
     },
     "metadata": {
      "needs_background": "light"
     },
     "output_type": "display_data"
    }
   ],
   "source": [
    "#Thời gian xử lý trung bình theo thứ tự ưu tiên\n",
    "priority = df['Order Priority'].sort_values().unique()\n",
    "plt.xlabel('Priority')\n",
    "plt.ylabel('Avg_aging')\n",
    "plt.bar(x = priority, height = priority_aging)\n",
    "plt.xticks(rotation=45)\n",
    "#plt.rcParams[\"figure.figsize\"] = (10,3)\n",
    "plt.show()"
   ]
  },
  {
   "cell_type": "markdown",
   "metadata": {},
   "source": [
    "7. Phí ship"
   ]
  },
  {
   "cell_type": "code",
   "execution_count": 33,
   "metadata": {},
   "outputs": [
    {
     "name": "stdout",
     "output_type": "stream",
     "text": [
      "Region\n",
      "Africa            33220.68\n",
      "Canada             2778.23\n",
      "Caribbean         12060.27\n",
      "Central           80417.26\n",
      "Central Asia      14952.60\n",
      "EMEA              36855.37\n",
      "East              20668.30\n",
      "North             34928.52\n",
      "North Asia        17091.14\n",
      "Oceania           25368.08\n",
      "South             47914.68\n",
      "Southeast Asia    23558.78\n",
      "West              23176.37\n",
      "Name: Shipping Cost, dtype: float64\n"
     ]
    }
   ],
   "source": [
    "region_ship = df.groupby('Region')['Shipping Cost'].sum().round(2)\n",
    "print(region_ship)"
   ]
  },
  {
   "cell_type": "code",
   "execution_count": 34,
   "metadata": {},
   "outputs": [
    {
     "data": {
      "image/png": "[encoded data removed]",
      "text/plain": [
       "<Figure size 432x288 with 1 Axes>"
      ]
     },
     "metadata": {
      "needs_background": "light"
     },
     "output_type": "display_data"
    }
   ],
   "source": [
    "#Tổng phí ship đến từng khu vực\n",
    "plt.xlabel('Priority')\n",
    "plt.ylabel('Avg_aging')\n",
    "plt.bar(x = region, height = region_ship)\n",
    "plt.xticks(rotation=45)\n",
    "#plt.rcParams[\"figure.figsize\"] = (10,3)\n",
    "plt.show()"
   ]
  }
 ],
 "metadata": {
  "kernelspec": {
   "display_name": "Python 3.9.12 ('base')",
   "language": "python",
   "name": "python3"
  },
  "language_info": {
   "codemirror_mode": {
    "name": "ipython",
    "version": 3
   },
   "file_extension": ".py",
   "mimetype": "text/x-python",
   "name": "python",
   "nbconvert_exporter": "python",
   "pygments_lexer": "ipython3",
   "version": "3.9.12"
  },
  "orig_nbformat": 4,
  "vscode": {
   "interpreter": {
    "hash": "ad2bdc8ecc057115af97d19610ffacc2b4e99fae6737bb82f5d7fb13d2f2c186"
   }
  }
 },
 "nbformat": 4,
 "nbformat_minor": 2
}
